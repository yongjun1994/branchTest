{
  "nbformat": 4,
  "nbformat_minor": 0,
  "metadata": {
    "colab": {
      "provenance": [],
      "authorship_tag": "ABX9TyN26ZRXeaT9mdUOwDUTzi/P",
      "include_colab_link": true
    },
    "kernelspec": {
      "name": "python3",
      "display_name": "Python 3"
    },
    "language_info": {
      "name": "python"
    }
  },
  "cells": [
    {
      "cell_type": "markdown",
      "metadata": {
        "id": "view-in-github",
        "colab_type": "text"
      },
      "source": [
        "<a href=\"https://colab.research.google.com/github/yongjun1994/branchTest/blob/main/1_%EB%84%98%ED%8C%8C%EC%9D%B4.ipynb\" target=\"_parent\"><img src=\"https://colab.research.google.com/assets/colab-badge.svg\" alt=\"Open In Colab\"/></a>"
      ]
    },
    {
      "cell_type": "markdown",
      "source": [
        "# 1. 넘파이\n",
        "- 넘파이(Numpy)는 파이썬에서 사용되는 과학 및 수학 연산을 위한 강력한 라이브러리입니다. 주로 다차원 배열을 다루는 데에 특화되어 있어, 데이터 분석, 머신러닝, 과학 계산 등 다양한 분야에서 널리 사용됩니다. 넘파이 배열은 C 언어로 구현되어 있어 연산이 빠르고 효율적입니다. 특히 큰 데이터셋에서 수치 연산을 수행할 때 뛰어난 성능을 보입니다. 또한 메모리 사용을 최적화하고 효율적으로 관리합니다.\n",
        "\n"
      ],
      "metadata": {
        "id": "wMfL9i2JMjFm"
      }
    },
    {
      "cell_type": "code",
      "source": [
        "!pip install numpy"
      ],
      "metadata": {
        "colab": {
          "base_uri": "https://localhost:8080/"
        },
        "id": "C1qvenXRMtWz",
        "outputId": "91abd85a-7e6c-410c-ae26-3219bd21aa20"
      },
      "execution_count": null,
      "outputs": [
        {
          "output_type": "stream",
          "name": "stdout",
          "text": [
            "Requirement already satisfied: numpy in /usr/local/lib/python3.10/dist-packages (1.26.4)\n"
          ]
        }
      ]
    },
    {
      "cell_type": "markdown",
      "source": [
        "#2. 넘파이의 주요 특징과 기능\n"
      ],
      "metadata": {
        "id": "0AtOwZ0ZNidR"
      }
    },
    {
      "cell_type": "markdown",
      "source": [
        "### 2-1. 다차원배열(N-dimensional array)\n",
        "- 넘파이의 핵심은 다차원 배열인 ndarray입니다. ndarray는 동일한 자료형을 가지는 원소들로 이루어져 있습니다. 다차원 배열은 1차원, 2차원, 3차원 등 다양한 차원을 가질 수 있습니다.\n",
        "- 파이썬 자료구조 컬렉션 4가지 : 셋, 튜플, 리스트, 딕셔너리"
      ],
      "metadata": {
        "id": "evgp5xo-Nodw"
      }
    },
    {
      "cell_type": "code",
      "source": [
        "list1 = [1, 2, 3, 4]\n",
        "print(list1)\n",
        "print(type(list1)) # 자료구조 타입 : list\n",
        "print(list1[0])\n",
        "print(type(list1[0]))\n",
        "\n",
        "list2 = [[1 ,2, 3, 4], [5, 6, 7, 8]]\n",
        "print(list2)\n",
        "print(type(list2)) # 자료구조 타입 : list\n",
        "print(list2[0])\n",
        "print(type(list2[0]))"
      ],
      "metadata": {
        "colab": {
          "base_uri": "https://localhost:8080/"
        },
        "id": "LgEwQWsSNygF",
        "outputId": "32050443-c18a-4091-c842-06f2ceceff7a"
      },
      "execution_count": null,
      "outputs": [
        {
          "output_type": "stream",
          "name": "stdout",
          "text": [
            "[1, 2, 3, 4]\n",
            "<class 'list'>\n",
            "1\n",
            "<class 'int'>\n",
            "[[1, 2, 3, 4], [5, 6, 7, 8]]\n",
            "<class 'list'>\n",
            "[1, 2, 3, 4]\n",
            "<class 'list'>\n"
          ]
        }
      ]
    },
    {
      "cell_type": "code",
      "source": [
        "import numpy as np # numpy 라이브러리 import"
      ],
      "metadata": {
        "id": "buJjqJgEO09u"
      },
      "execution_count": null,
      "outputs": []
    },
    {
      "cell_type": "code",
      "source": [
        "ndarr1 = np.array([1, 2, 3, 4]) # ndarray1에 자료구조 담음\n",
        "print(ndarr1)\n",
        "print(type(ndarr1)) # 자료구조 타입 : ndarray\n",
        "print(type(ndarr1[0])) # 또 다른 타입\n",
        "\n",
        "ndarr2 = np.array([[1, 2, 3], [4, 5, 6]])\n",
        "print(ndarr2)\n",
        "print(type(ndarr2)) # 자료구조 타입 : ndarray\n",
        "print(type(ndarr2[0]))"
      ],
      "metadata": {
        "colab": {
          "base_uri": "https://localhost:8080/"
        },
        "id": "W4QCApRjPzP1",
        "outputId": "b7f2a063-52bc-4306-9892-e5d7cd2f2791"
      },
      "execution_count": null,
      "outputs": [
        {
          "output_type": "stream",
          "name": "stdout",
          "text": [
            "[1 2 3 4]\n",
            "<class 'numpy.ndarray'>\n",
            "<class 'numpy.int64'>\n",
            "[[1 2 3]\n",
            " [4 5 6]]\n",
            "<class 'numpy.ndarray'>\n",
            "<class 'numpy.ndarray'>\n"
          ]
        }
      ]
    },
    {
      "cell_type": "markdown",
      "source": [
        "###2-2. 리스트와 ndarray 변환\n",
        "- 데이터 타입을 다른 데이터 타입으로 변환할 수 있습니다. 리스트에서 배열로의 변환은 np.array() 메소드를 사용하고, 배열에서 리스트로의 변환은 tolist() 메서드를 사용합니다."
      ],
      "metadata": {
        "id": "cnFw0IGkQJV0"
      }
    },
    {
      "cell_type": "code",
      "source": [
        "list1 = [1, 2, 3, 4]\n",
        "ndarr1 = np.array(list1) # 리스트에서 배열로 변환: np.array()\n",
        "print(ndarr1)\n",
        "print(type(ndarr1))\n",
        "\n",
        "list2 = ndarr1.tolist() # 배열에서 리스트로의 변환 : tolist()\n",
        "print(list2)\n",
        "print(type(list2))"
      ],
      "metadata": {
        "colab": {
          "base_uri": "https://localhost:8080/"
        },
        "id": "xpB7VJWiRCUo",
        "outputId": "08cfda55-b46e-40df-d064-133f62c8ef37"
      },
      "execution_count": null,
      "outputs": [
        {
          "output_type": "stream",
          "name": "stdout",
          "text": [
            "[1 2 3 4]\n",
            "<class 'numpy.ndarray'>\n",
            "[1, 2, 3, 4]\n",
            "<class 'list'>\n"
          ]
        }
      ]
    },
    {
      "cell_type": "markdown",
      "source": [
        "###2-3. ndarray의 데이터 타입\n",
        "넘파이의 ndarray는 동일한 자료형을 가지는 원소들로 이루어져 있으며, 다양한 데이터 타입을 지원합니다."
      ],
      "metadata": {
        "id": "WKG636plRS01"
      }
    },
    {
      "cell_type": "code",
      "source": [
        "# 리스트\n",
        "list1 = [1, 3.14, 'Python', '★', True]\n",
        "print(list1)\n",
        "print(type(list1))\n",
        "print(type(list1[0]))\n",
        "print(type(list1[1]))\n",
        "print(type(list1[2]))\n",
        "print(type(list1[3]))\n",
        "print(type(list1[4]))"
      ],
      "metadata": {
        "colab": {
          "base_uri": "https://localhost:8080/"
        },
        "id": "VQ4vlb4XR2uf",
        "outputId": "0c87780b-3ad5-4772-f8ac-8f2b42abeac1"
      },
      "execution_count": null,
      "outputs": [
        {
          "output_type": "stream",
          "name": "stdout",
          "text": [
            "[1, 3.14, 'Python', '★', True]\n",
            "<class 'list'>\n",
            "<class 'int'>\n",
            "<class 'float'>\n",
            "<class 'str'>\n",
            "<class 'str'>\n",
            "<class 'bool'>\n"
          ]
        }
      ]
    },
    {
      "cell_type": "code",
      "source": [
        "# ndarray\n",
        "ndarr1 = np.array([1, 2, 3, 4])\n",
        "print(ndarr1)\n",
        "print(type(ndarr1))\n",
        "print(type(ndarr1[0]))\n",
        "print(type(ndarr1[1]))\n",
        "print(type(ndarr1[2]))\n",
        "print(type(ndarr1[3]))"
      ],
      "metadata": {
        "colab": {
          "base_uri": "https://localhost:8080/"
        },
        "id": "GeWvMq1kSUbu",
        "outputId": "d06136f7-4ec1-4f66-eb56-52fc83e1861b"
      },
      "execution_count": null,
      "outputs": [
        {
          "output_type": "stream",
          "name": "stdout",
          "text": [
            "[1 2 3 4]\n",
            "<class 'numpy.ndarray'>\n",
            "<class 'numpy.int64'>\n",
            "<class 'numpy.int64'>\n",
            "<class 'numpy.int64'>\n",
            "<class 'numpy.int64'>\n"
          ]
        }
      ]
    },
    {
      "cell_type": "code",
      "source": [
        "ndarr2 = np.array([1, 2, 3.14, 4]) # 타입 승격 순서 bool < int < float < complex(복소수) < str\n",
        "print(ndarr2)\n",
        "print(type(ndarr2))\n",
        "print(type(ndarr2[0]))\n",
        "print(type(ndarr2[1]))\n",
        "print(type(ndarr2[2]))\n",
        "print(type(ndarr2[3]))"
      ],
      "metadata": {
        "colab": {
          "base_uri": "https://localhost:8080/"
        },
        "id": "0xA-cD-USw3y",
        "outputId": "bf839078-ccfa-4feb-e284-902066b790c2"
      },
      "execution_count": null,
      "outputs": [
        {
          "output_type": "stream",
          "name": "stdout",
          "text": [
            "[1.   2.   3.14 4.  ]\n",
            "<class 'numpy.ndarray'>\n",
            "<class 'numpy.float64'>\n",
            "<class 'numpy.float64'>\n",
            "<class 'numpy.float64'>\n",
            "<class 'numpy.float64'>\n"
          ]
        }
      ]
    },
    {
      "cell_type": "code",
      "source": [
        "ndarr3 = np.array([1, 2, 3.14, True])\n",
        "print(ndarr3)\n",
        "print(type(ndarr3))\n",
        "print(type(ndarr3[0]))\n",
        "print(type(ndarr3[1]))\n",
        "print(type(ndarr3[2]))\n",
        "print(type(ndarr3[3]))"
      ],
      "metadata": {
        "colab": {
          "base_uri": "https://localhost:8080/"
        },
        "id": "UejQq8eTTJDX",
        "outputId": "09075522-6f9c-4043-a448-ae9ea6b3cfdc"
      },
      "execution_count": null,
      "outputs": [
        {
          "output_type": "stream",
          "name": "stdout",
          "text": [
            "[1.   2.   3.14 1.  ]\n",
            "<class 'numpy.ndarray'>\n",
            "<class 'numpy.float64'>\n",
            "<class 'numpy.float64'>\n",
            "<class 'numpy.float64'>\n",
            "<class 'numpy.float64'>\n"
          ]
        }
      ]
    },
    {
      "cell_type": "code",
      "source": [
        "ndarr4 = np.array(['1', 2, 3.14, True])\n",
        "print(ndarr4)\n",
        "print(type(ndarr4))\n",
        "print(type(ndarr4[0]))\n",
        "print(type(ndarr4[1]))\n",
        "print(type(ndarr4[2]))\n",
        "print(type(ndarr4[3]))"
      ],
      "metadata": {
        "colab": {
          "base_uri": "https://localhost:8080/"
        },
        "id": "X6r961mtTs7P",
        "outputId": "ecd4cf52-23a1-496a-990d-78db74bcf82f"
      },
      "execution_count": null,
      "outputs": [
        {
          "output_type": "stream",
          "name": "stdout",
          "text": [
            "['1' '2' '3.14' 'True']\n",
            "<class 'numpy.ndarray'>\n",
            "<class 'numpy.str_'>\n",
            "<class 'numpy.str_'>\n",
            "<class 'numpy.str_'>\n",
            "<class 'numpy.str_'>\n"
          ]
        }
      ]
    },
    {
      "cell_type": "code",
      "source": [
        "ndarr3 = np.array([1, 2, 3.14, True], dtype='int') # dytpe : ndarray로 바꿀때 타입을 정해주겠다.\n",
        "print(ndarr3)\n",
        "print(type(ndarr3))\n",
        "print(type(ndarr3[0]))\n",
        "print(type(ndarr3[1]))\n",
        "print(type(ndarr3[2]))\n",
        "print(type(ndarr3[3]))"
      ],
      "metadata": {
        "colab": {
          "base_uri": "https://localhost:8080/"
        },
        "id": "SKLHLMKRT8GS",
        "outputId": "74588fe3-b09d-4313-f407-4976d90266d6"
      },
      "execution_count": null,
      "outputs": [
        {
          "output_type": "stream",
          "name": "stdout",
          "text": [
            "[1 2 3 1]\n",
            "<class 'numpy.ndarray'>\n",
            "<class 'numpy.int64'>\n",
            "<class 'numpy.int64'>\n",
            "<class 'numpy.int64'>\n",
            "<class 'numpy.int64'>\n"
          ]
        }
      ]
    },
    {
      "cell_type": "code",
      "source": [
        "ndarr4 = np.array(['1', 2, 3.14, True], dtype='int') # dytpe : ndarray로 바꿀때 타입을 정해주겠다.\n",
        "print(ndarr4)\n",
        "print(type(ndarr4))\n",
        "print(type(ndarr4[0]))\n",
        "print(type(ndarr4[1]))\n",
        "print(type(ndarr4[2]))\n",
        "print(type(ndarr4[3]))"
      ],
      "metadata": {
        "colab": {
          "base_uri": "https://localhost:8080/"
        },
        "id": "RfXWdERkUNlf",
        "outputId": "550fbe91-0f3a-4397-edb0-11b24909c3c6"
      },
      "execution_count": null,
      "outputs": [
        {
          "output_type": "stream",
          "name": "stdout",
          "text": [
            "[1 2 3 1]\n",
            "<class 'numpy.ndarray'>\n",
            "<class 'numpy.int64'>\n",
            "<class 'numpy.int64'>\n",
            "<class 'numpy.int64'>\n",
            "<class 'numpy.int64'>\n"
          ]
        }
      ]
    },
    {
      "cell_type": "markdown",
      "source": [
        "### 2-4. ndarray 인덱싱과 슬라이싱\n",
        "-넘파이의 ndarray는 리스트와 유사하게 인덱싱과 슬라이싱을 지원합니다.\n",
        "\n",
        "- 인덱싱 : 순차적인 자료구조에서 순서에 따라 번호를 매기는데 번호를 매기는 것, 차원이 감소한다.\n",
        "\n",
        "- 슬라이싱 : 슬라이싱(slicing)이란 무언가를 잘라 낸다는 뜻으로 연속적인 객체(리스트, 튜플, 문자열)에 부여된 번호를 이용해 연속된 객체에 일부를 추출하는 작업입니다, 차원 유지됨"
      ],
      "metadata": {
        "id": "xX7uMxo2UalY"
      }
    },
    {
      "cell_type": "code",
      "source": [
        "ndarr1 = np.array(['■','＠','☆','★', '＃'])\n",
        "print(ndarr1)\n",
        "print(ndarr1.shape) # (5,) : 1차원 배열, 요소의 개수가 5개"
      ],
      "metadata": {
        "colab": {
          "base_uri": "https://localhost:8080/"
        },
        "id": "iWvTVBcHV9iJ",
        "outputId": "73be5f06-4afa-4651-fe7a-9ea64c45b182"
      },
      "execution_count": null,
      "outputs": [
        {
          "output_type": "stream",
          "name": "stdout",
          "text": [
            "['■' '＠' '☆' '★' '＃']\n",
            "(5,)\n"
          ]
        }
      ]
    },
    {
      "cell_type": "code",
      "source": [
        "print(ndarr1[0])\n",
        "print(ndarr1[4])\n",
        "print(ndarr1[-1])\n",
        "print(ndarr1[-2])"
      ],
      "metadata": {
        "colab": {
          "base_uri": "https://localhost:8080/"
        },
        "id": "bQ2OCnecWQvY",
        "outputId": "fce20677-a2ad-4fa9-844d-f1b964977c1d"
      },
      "execution_count": null,
      "outputs": [
        {
          "output_type": "stream",
          "name": "stdout",
          "text": [
            "■\n",
            "＃\n",
            "＃\n",
            "★\n"
          ]
        }
      ]
    },
    {
      "cell_type": "code",
      "source": [
        "print(ndarr1[0:3]) # 슬라이싱 : 차원이 유지됨\n",
        "print(ndarr1[2:])\n",
        "print(ndarr1[:3])"
      ],
      "metadata": {
        "colab": {
          "base_uri": "https://localhost:8080/"
        },
        "id": "ml46k7WBWVKE",
        "outputId": "ddc68c52-1393-42d5-cd93-8d325fd84e67"
      },
      "execution_count": null,
      "outputs": [
        {
          "output_type": "stream",
          "name": "stdout",
          "text": [
            "['■' '＠' '☆']\n",
            "['☆' '★' '＃']\n",
            "['■' '＠' '☆']\n"
          ]
        }
      ]
    },
    {
      "cell_type": "code",
      "source": [
        "ndarr2d = np.array([[1,2,3,4],\n",
        "                    [5,6,7,8],\n",
        "                    [9,10,11,12]])\n",
        "print(ndarr2d)\n",
        "print(ndarr2d.shape) # 3행 4열"
      ],
      "metadata": {
        "colab": {
          "base_uri": "https://localhost:8080/"
        },
        "id": "HPG8pEPyWtny",
        "outputId": "5ae9dded-6d78-4f79-bd83-ea84dac00ee3"
      },
      "execution_count": null,
      "outputs": [
        {
          "output_type": "stream",
          "name": "stdout",
          "text": [
            "[[ 1  2  3  4]\n",
            " [ 5  6  7  8]\n",
            " [ 9 10 11 12]]\n",
            "(3, 4)\n"
          ]
        }
      ]
    },
    {
      "cell_type": "code",
      "source": [
        "# 0행을 출력\n",
        "print(ndarr2d[0, :])\n",
        "print(ndarr2d[0,])\n",
        "print(ndarr2d[0])"
      ],
      "metadata": {
        "colab": {
          "base_uri": "https://localhost:8080/"
        },
        "id": "U11COt-QZ-tt",
        "outputId": "de885c12-4c97-4a14-b988-305511bf032b"
      },
      "execution_count": null,
      "outputs": [
        {
          "output_type": "stream",
          "name": "stdout",
          "text": [
            "[1 2 3 4]\n",
            "[1 2 3 4]\n",
            "[1 2 3 4]\n"
          ]
        }
      ]
    },
    {
      "cell_type": "code",
      "source": [
        "# 0열을 출력\n",
        "print(ndarr2d[:, 0])"
      ],
      "metadata": {
        "colab": {
          "base_uri": "https://localhost:8080/"
        },
        "id": "Kaa_FXhHaOw1",
        "outputId": "3b0b697a-cd3c-4439-df92-68dbf3892a3c"
      },
      "execution_count": null,
      "outputs": [
        {
          "output_type": "stream",
          "name": "stdout",
          "text": [
            "[1 5 9]\n"
          ]
        }
      ]
    },
    {
      "cell_type": "code",
      "source": [
        "ndarr1 = np.array([10, 15, 2, 8, 20, 90, 85, 44, 23, 32])\n",
        "idx = [2, 5, 9]\n",
        "print(ndarr1[idx]) # 2, 5, 9 번에 대한 인덱싱\n",
        "\n",
        "ndarr2d = np.array([[1,2,3,4],\n",
        "                    [5,6,7,8],\n",
        "                    [9,10,11,12]])\n",
        "print(ndarr2d[[0, 1], :]) # 0번행 1번행을 가져와라"
      ],
      "metadata": {
        "colab": {
          "base_uri": "https://localhost:8080/"
        },
        "id": "Y_jpPRgnamP1",
        "outputId": "b176c52f-3e3b-4da9-dd8a-d0fc23d54275"
      },
      "execution_count": null,
      "outputs": [
        {
          "output_type": "stream",
          "name": "stdout",
          "text": [
            "[ 2 90 32]\n",
            "[[1 2 3 4]\n",
            " [5 6 7 8]]\n"
          ]
        }
      ]
    },
    {
      "cell_type": "code",
      "source": [
        "ndarr1 = np.array(['■','＠','☆','★', '＃'])\n",
        "sel = [True, False, True, True, False]\n",
        "print(ndarr1[sel]) # 차원 변화는 일어나지 않음"
      ],
      "metadata": {
        "colab": {
          "base_uri": "https://localhost:8080/"
        },
        "id": "18lu-DsWcIZW",
        "outputId": "56e32a44-0867-4636-cddd-21083153e91c"
      },
      "execution_count": null,
      "outputs": [
        {
          "output_type": "stream",
          "name": "stdout",
          "text": [
            "['■' '☆' '★']\n"
          ]
        }
      ]
    },
    {
      "cell_type": "code",
      "source": [
        "ndarr1 = np.array(['■','＠','☆','★', '＃'])\n",
        "sel = [True, False, True, True, False]\n",
        "print(ndarr1[sel]) # 차원 변화는 일어나지 않음\n",
        "\n",
        "ndarr2d = np.array([[1,2,3,4],\n",
        "                    [5,6,7,8],\n",
        "                    [9,10,11,12]])\n",
        "print(ndarr2d[ndarr2d > 7]) # 해당 조건이 참인 요소만 출력\n",
        "print(ndarr2d > 7)"
      ],
      "metadata": {
        "colab": {
          "base_uri": "https://localhost:8080/"
        },
        "id": "U_rWOuRHdEQR",
        "outputId": "1322b769-c00e-49ee-baa4-963bab141cba"
      },
      "execution_count": null,
      "outputs": [
        {
          "output_type": "stream",
          "name": "stdout",
          "text": [
            "['■' '☆' '★']\n",
            "[ 8  9 10 11 12]\n",
            "[[False False False False]\n",
            " [False False False  True]\n",
            " [ True  True  True  True]]\n"
          ]
        }
      ]
    },
    {
      "cell_type": "markdown",
      "source": [
        "# 3. 행렬 연산\n",
        "넘파이에서는 다차원 배열인 ndarray를 사용하여 행렬 연산을 수행할 수 있습니다. 행렬 연산은 선형 대수와 관련이 깊어, 데이터 과학, 머신러닝, 통계 등 다양한 분야에서 사용됩니다."
      ],
      "metadata": {
        "id": "K4lpUsGQdmBS"
      }
    },
    {
      "cell_type": "code",
      "source": [
        "a = np.array([[1, 2, 3],\n",
        "              [2, 3, 4]])\n",
        "b = np.array([[3, 4, 5],\n",
        "              [1, 2, 3]])\n",
        "print(a.shape, b.shape)"
      ],
      "metadata": {
        "colab": {
          "base_uri": "https://localhost:8080/"
        },
        "id": "QdO_GjiLdtRH",
        "outputId": "01fe27ef-4771-4ff4-8aa0-4a5ba0bdb17c"
      },
      "execution_count": null,
      "outputs": [
        {
          "output_type": "stream",
          "name": "stdout",
          "text": [
            "(2, 3) (2, 3)\n"
          ]
        }
      ]
    },
    {
      "cell_type": "code",
      "source": [
        "print(a + b)"
      ],
      "metadata": {
        "colab": {
          "base_uri": "https://localhost:8080/"
        },
        "id": "oiAMWcpAfio-",
        "outputId": "8643c8ad-f7fb-49f7-be84-caa5971e6c16"
      },
      "execution_count": null,
      "outputs": [
        {
          "output_type": "stream",
          "name": "stdout",
          "text": [
            "[[4 6 8]\n",
            " [3 5 7]]\n"
          ]
        }
      ]
    },
    {
      "cell_type": "code",
      "source": [
        "print(a - b)"
      ],
      "metadata": {
        "colab": {
          "base_uri": "https://localhost:8080/"
        },
        "id": "ECbj6UzsfvAy",
        "outputId": "7f729276-a0b2-47a1-b0b6-a18df6e6a9ed"
      },
      "execution_count": null,
      "outputs": [
        {
          "output_type": "stream",
          "name": "stdout",
          "text": [
            "[[-2 -2 -2]\n",
            " [ 1  1  1]]\n"
          ]
        }
      ]
    },
    {
      "cell_type": "code",
      "source": [
        "# 행렬 원소별 곱셈\n",
        "print(a * b)"
      ],
      "metadata": {
        "colab": {
          "base_uri": "https://localhost:8080/"
        },
        "id": "75KzOwStf4Gf",
        "outputId": "9232cbe0-35a7-4618-d50b-d0c0c8e43717"
      },
      "execution_count": null,
      "outputs": [
        {
          "output_type": "stream",
          "name": "stdout",
          "text": [
            "[[ 3  8 15]\n",
            " [ 2  6 12]]\n"
          ]
        }
      ]
    },
    {
      "cell_type": "code",
      "source": [
        "print(a / b)"
      ],
      "metadata": {
        "colab": {
          "base_uri": "https://localhost:8080/"
        },
        "id": "a-1s6TYQf8c1",
        "outputId": "4cf16f4b-2348-4a95-e8c5-ea1b2ea0a885"
      },
      "execution_count": null,
      "outputs": [
        {
          "output_type": "stream",
          "name": "stdout",
          "text": [
            "[[0.33333333 0.5        0.6       ]\n",
            " [2.         1.5        1.33333333]]\n"
          ]
        }
      ]
    },
    {
      "cell_type": "markdown",
      "source": [
        "### 행렬곱의 규칙\n",
        "1. 첫 번째 행렬의 열(가로 숫자 개수)과 두 번째 행렬의 행(세로 숫자 개수)이 같아야 합니다.\n",
        "예: A가 2×3 행렬이고 B가 3×2 행렬이라면, A와 B를 곱할 수 있습니다.\n",
        "2. 결과 행렬은 첫 번째 행렬의 행 개수 × 두 번째 행렬의 열 개수입니다.\n",
        "예: A(2×3) × B(3×2) → 결과는 2×2 행렬.\n",
        "3. 행렬곱은 첫 번째 행렬의 한 행과 두 번째 행렬의 한 열을 각각 곱한 뒤 더해서 계산합니다."
      ],
      "metadata": {
        "id": "fHWosHfaf-Sf"
      }
    },
    {
      "cell_type": "code",
      "source": [
        "ndarr3 = np.array([[1, 2, 3],\n",
        "                   [1, 2, 3],\n",
        "                   [2, 3, 4]])\n",
        "ndarr4 = np.array([[1, 2],\n",
        "                   [3, 4],\n",
        "                   [5, 6]])\n",
        "\n",
        "print(ndarr3.shape)\n",
        "print(ndarr4.shape)\n",
        "\n",
        "print((1*1 + 2*3 + 3*5), (1*2 + 2*4 + 3*6))\n",
        "print((1*1 + 2*3 + 3*5), (1*2 + 2*4 + 3*6))\n",
        "print((2*1 + 3*3 + 4*5), (2*2 + 3*4 + 4*6))"
      ],
      "metadata": {
        "colab": {
          "base_uri": "https://localhost:8080/"
        },
        "id": "hK_1KbTEgXCb",
        "outputId": "721ecce5-8d4b-4a9f-b558-4f03306a5045"
      },
      "execution_count": null,
      "outputs": [
        {
          "output_type": "stream",
          "name": "stdout",
          "text": [
            "(3, 3)\n",
            "(3, 2)\n",
            "22 28\n",
            "22 28\n",
            "31 40\n"
          ]
        }
      ]
    },
    {
      "cell_type": "code",
      "source": [
        "print(np.dot(ndarr3, ndarr4)) # dot: 내적 구하는 메소드"
      ],
      "metadata": {
        "colab": {
          "base_uri": "https://localhost:8080/"
        },
        "id": "nPG6B1ighsE5",
        "outputId": "60a3f0d5-8a29-4f0c-fb8e-9052c5f10f3f"
      },
      "execution_count": null,
      "outputs": [
        {
          "output_type": "stream",
          "name": "stdout",
          "text": [
            "[[22 28]\n",
            " [22 28]\n",
            " [31 40]]\n"
          ]
        }
      ]
    },
    {
      "cell_type": "code",
      "source": [
        "print(ndarr3 @ ndarr4) # @ : 내적 연산자"
      ],
      "metadata": {
        "colab": {
          "base_uri": "https://localhost:8080/"
        },
        "id": "wbTYvdQzih5-",
        "outputId": "08e882b0-f64b-42a9-8c42-91d07eece563"
      },
      "execution_count": null,
      "outputs": [
        {
          "output_type": "stream",
          "name": "stdout",
          "text": [
            "[[22 28]\n",
            " [22 28]\n",
            " [31 40]]\n"
          ]
        }
      ]
    },
    {
      "cell_type": "markdown",
      "source": [
        "※ 선형 대수\n",
        "\n",
        "선형 대수는 벡터와 행렬을 사용해 공간과 변환을 다루는 수학의 한 분야입니다. 쉽게 말해, 여러 숫자를 체계적으로 배열한 벡터(리스트 같은 것)와 행렬(숫자가 격자로 배열된 표)을 이용해 데이터를 표현하고 조작하는 방법입니다. 선형 대수는 컴퓨터 그래픽스, 머신러닝, 물리학, 공학 등 다양한 분야에서 사용됩니다. 예를 들어, 사진에서 색상을 조정하거나, 로봇이 움직일 경로를 계산하거나, AI가 데이터를 분석하는 데도 선형 대수가 필요합니다."
      ],
      "metadata": {
        "id": "jydWiz9RirXH"
      }
    },
    {
      "cell_type": "markdown",
      "source": [
        "# **4. 순차적인 값 생성\n",
        "NumPy에서 np.arange() 함수는 일정한 간격으로 숫자들을 생성하는 데 사용됩니다. 이 함수는 Python의 기본 range() 함수와 유사하지만, NumPy 배열을 반환하므로 수학적인 연산이 가능합니다."
      ],
      "metadata": {
        "id": "Xw-Yposli4CB"
      }
    },
    {
      "cell_type": "code",
      "source": [
        "arr1 = range(1, 11)\n",
        "print(arr1)\n",
        "\n",
        "for i in arr1:\n",
        "    print(i, end=' ')"
      ],
      "metadata": {
        "colab": {
          "base_uri": "https://localhost:8080/"
        },
        "id": "HD44XZwLjJLw",
        "outputId": "5b7fc30f-62a2-4c29-a6fd-e196d823ba4e"
      },
      "execution_count": null,
      "outputs": [
        {
          "output_type": "stream",
          "name": "stdout",
          "text": [
            "range(1, 11)\n",
            "1 2 3 4 5 6 7 8 9 10 "
          ]
        }
      ]
    },
    {
      "cell_type": "code",
      "source": [
        "arr2 = np.arange(1, 11)\n",
        "print(arr2)\n",
        "print(type(arr2))\n",
        "\n",
        "for i in arr2:\n",
        "    print(i, end=' ')"
      ],
      "metadata": {
        "colab": {
          "base_uri": "https://localhost:8080/"
        },
        "id": "nQixo4Aejcou",
        "outputId": "c00b694f-210c-490b-de76-3fe163d4f98f"
      },
      "execution_count": null,
      "outputs": [
        {
          "output_type": "stream",
          "name": "stdout",
          "text": [
            "[ 1  2  3  4  5  6  7  8  9 10]\n",
            "<class 'numpy.ndarray'>\n",
            "1 2 3 4 5 6 7 8 9 10 "
          ]
        }
      ]
    },
    {
      "cell_type": "markdown",
      "source": [
        "# 5. 정렬\n",
        "NumPy의 np.sort() 함수는 배열을 정렬하는 데 사용됩니다. 이 함수는 기본적으로 원래 배열을 변경하지 않고 정렬된 배열의 복사본을 반환합니다."
      ],
      "metadata": {
        "id": "PDob2p_0jsi4"
      }
    },
    {
      "cell_type": "code",
      "source": [
        "ndarr1 = np.array([1, 10, 5, 7, 2, 4, 3, 6, 8, 9])\n",
        "print(ndarr1)\n",
        "\n",
        "print(np.sort(ndarr1)) # 오름차순\n",
        "print(ndarr1)"
      ],
      "metadata": {
        "colab": {
          "base_uri": "https://localhost:8080/"
        },
        "id": "0DwZbQRTkD8M",
        "outputId": "19ba6f7c-96d1-4de3-ae23-52cc48e16ed8"
      },
      "execution_count": null,
      "outputs": [
        {
          "output_type": "stream",
          "name": "stdout",
          "text": [
            "[ 1 10  5  7  2  4  3  6  8  9]\n",
            "[ 1  2  3  4  5  6  7  8  9 10]\n",
            "[ 1 10  5  7  2  4  3  6  8  9]\n"
          ]
        }
      ]
    },
    {
      "cell_type": "code",
      "source": [
        "ndarr2 = np.sort(ndarr1)\n",
        "print(ndarr2)"
      ],
      "metadata": {
        "colab": {
          "base_uri": "https://localhost:8080/"
        },
        "id": "dXHpJkxDnXgM",
        "outputId": "c516ea93-c0e9-4aad-bd75-1283fc9722ab"
      },
      "execution_count": null,
      "outputs": [
        {
          "output_type": "stream",
          "name": "stdout",
          "text": [
            "[ 1  2  3  4  5  6  7  8  9 10]\n"
          ]
        }
      ]
    },
    {
      "cell_type": "code",
      "source": [
        "# np.sort(ndarr1)[::-1]는 간단하고 직관적인 내림차순 정렬 방식입니다.\n",
        "# 배열의 원본을 수정하지 않으며, 내림차순 배열의 복사본을 반환합니다.\n",
        "print(np.sort(ndarr1)[::-1]) # 내림차순"
      ],
      "metadata": {
        "colab": {
          "base_uri": "https://localhost:8080/"
        },
        "id": "BD55-NrwnnHE",
        "outputId": "03f3134e-dea3-4be5-c7dd-e91e72d47a00"
      },
      "execution_count": null,
      "outputs": [
        {
          "output_type": "stream",
          "name": "stdout",
          "text": [
            "[10  9  8  7  6  5  4  3  2  1]\n"
          ]
        }
      ]
    },
    {
      "cell_type": "code",
      "source": [
        "ndarr2d = np.array([[11, 10, 12, 9],\n",
        "                    [3, 1, 4, 2],\n",
        "                    [5, 6, 7, 8]])\n",
        "print(ndarr2d.shape)"
      ],
      "metadata": {
        "colab": {
          "base_uri": "https://localhost:8080/"
        },
        "id": "khMGf6XVn-IQ",
        "outputId": "929aafda-0112-48b2-9053-023e86b059ae"
      },
      "execution_count": null,
      "outputs": [
        {
          "output_type": "stream",
          "name": "stdout",
          "text": [
            "(3, 4)\n"
          ]
        }
      ]
    },
    {
      "cell_type": "code",
      "source": [
        "# 열 단위로 정렬. 각 열의 값들을 개별적으로 오름차순으로 정렬하며, 행(row)의 순서는 재배열\n",
        "np.sort(ndarr2d, axis=0)"
      ],
      "metadata": {
        "colab": {
          "base_uri": "https://localhost:8080/"
        },
        "id": "0wAf2AGpoPmN",
        "outputId": "24b94764-0699-4aa5-8a81-a5e9f8c92652"
      },
      "execution_count": null,
      "outputs": [
        {
          "output_type": "execute_result",
          "data": {
            "text/plain": [
              "array([[ 3,  1,  4,  2],\n",
              "       [ 5,  6,  7,  8],\n",
              "       [11, 10, 12,  9]])"
            ]
          },
          "metadata": {},
          "execution_count": 36
        }
      ]
    },
    {
      "cell_type": "code",
      "source": [
        "# 행(row) 단위로 정렬. 각 행의 원소들이 개별적으로 오름차순으로 정렬\n",
        "np.sort(ndarr2d, axis=1)"
      ],
      "metadata": {
        "colab": {
          "base_uri": "https://localhost:8080/"
        },
        "id": "5GetCPuGo3nj",
        "outputId": "b7cc89af-ed17-47ab-f6b1-453e86c7c8c9"
      },
      "execution_count": null,
      "outputs": [
        {
          "output_type": "execute_result",
          "data": {
            "text/plain": [
              "array([[ 9, 10, 11, 12],\n",
              "       [ 1,  2,  3,  4],\n",
              "       [ 5,  6,  7,  8]])"
            ]
          },
          "metadata": {},
          "execution_count": 37
        }
      ]
    },
    {
      "cell_type": "code",
      "source": [
        "# 행 단위로 정렬한 후, 각 행의 값을 역순으로 정렬하는 동작을 수행\n",
        "# [:, ::-1]:\n",
        "\n",
        "# 슬라이싱에서 [::-1]는 배열을 역순으로 뒤집는 작업을 합니다.\n",
        "# [:, ::-1]는 배열의 **모든 행(:)**을 선택한 뒤, 각 행의 열 순서를 뒤집는 작업을 수행합니다.\n",
        "np.sort(ndarr2d, axis=1)[:, ::-1]"
      ],
      "metadata": {
        "colab": {
          "base_uri": "https://localhost:8080/"
        },
        "id": "g1gNA6Soo7im",
        "outputId": "cea35a58-bdb6-4809-c42e-48194926969f"
      },
      "execution_count": null,
      "outputs": [
        {
          "output_type": "execute_result",
          "data": {
            "text/plain": [
              "array([[12, 11, 10,  9],\n",
              "       [ 4,  3,  2,  1],\n",
              "       [ 8,  7,  6,  5]])"
            ]
          },
          "metadata": {},
          "execution_count": 38
        }
      ]
    },
    {
      "cell_type": "code",
      "source": [
        "# axis=1과 동일하게 동작. -1은 배열의 마지막 축을 기준으로 동작하라는 의미.\n",
        "# 2차원 배열에서 마지막 축은 axis=1을 나타냄\n",
        "np.sort(ndarr2d, axis=-1)"
      ],
      "metadata": {
        "colab": {
          "base_uri": "https://localhost:8080/"
        },
        "id": "JIbgwBIAo998",
        "outputId": "9cc9b621-5280-41a8-d94f-566b2c73ae2a"
      },
      "execution_count": null,
      "outputs": [
        {
          "output_type": "execute_result",
          "data": {
            "text/plain": [
              "array([[ 9, 10, 11, 12],\n",
              "       [ 1,  2,  3,  4],\n",
              "       [ 5,  6,  7,  8]])"
            ]
          },
          "metadata": {},
          "execution_count": 39
        }
      ]
    },
    {
      "cell_type": "code",
      "source": [],
      "metadata": {
        "id": "yU9aROLipYUQ"
      },
      "execution_count": null,
      "outputs": []
    }
  ]
}