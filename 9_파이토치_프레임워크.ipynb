{
  "nbformat": 4,
  "nbformat_minor": 0,
  "metadata": {
    "colab": {
      "provenance": [],
      "gpuType": "T4",
      "authorship_tag": "ABX9TyPSQsgW0+I7YQljTxvEHamT",
      "include_colab_link": true
    },
    "kernelspec": {
      "name": "python3",
      "display_name": "Python 3"
    },
    "language_info": {
      "name": "python"
    },
    "accelerator": "GPU"
  },
  "cells": [
    {
      "cell_type": "markdown",
      "metadata": {
        "id": "view-in-github",
        "colab_type": "text"
      },
      "source": [
        "<a href=\"https://colab.research.google.com/github/yongjun1994/branchTest/blob/main/9_%ED%8C%8C%EC%9D%B4%ED%86%A0%EC%B9%98_%ED%94%84%EB%A0%88%EC%9E%84%EC%9B%8C%ED%81%AC.ipynb\" target=\"_parent\"><img src=\"https://colab.research.google.com/assets/colab-badge.svg\" alt=\"Open In Colab\"/></a>"
      ]
    },
    {
      "cell_type": "markdown",
      "source": [
        "# 1. 파이토치\n",
        "PyTorch는 파이썬 기반의 오픈소스 딥러닝 프레임워크로, 파이썬 코드로 AI 모델을 직관적으로 만들고 학습할 수 있도록 도와주는 도구입니다. 특히 동적 계산 그래프 방식을 사용하기 때문에 코드 실행 시점에 실시간으로 계산 흐름이 결정되어 디버깅과 수정이 쉽고, GPU 가속과 자동 미분 기능을 통해 대규모 모델도 빠르게 학습할 수 있습니다.\n",
        "\n",
        "> 동적 계산 그래프 방식은\n",
        "\n",
        "> 딥러닝 모델이 학습 및 예측을 수행할 때 계산 그래프를 실행 시점(runtime)에 실시간으로 생성 및 수정하는 방식입니다. 이 방식은 조건문, 반복문 등 복잡한 논리 구조를 유연하게 처리할 수 있으며, 주로 PyTorch와 같은 프레임워크에서 사용됩니다. 계산 그래프는 입력 데이터를 바탕으로 연산을 수행하면서 그래프를 생성하고, 역전파를 통해 미분을 계산하며, 최종적으로 가중치를 업데이트하는 과정을 거칩니다. 이러한 특성 덕분에 디버깅이 용이하고 연구 및 개발 속도가 빠르며 직관적인 코드 작성이 가능합니다."
      ],
      "metadata": {
        "id": "tmtz3vKeUL5N"
      }
    },
    {
      "cell_type": "markdown",
      "source": [
        "### 1-1. 스칼라\n",
        "스칼라(Scalar)는 단 하나의 숫자(정수, 실수 등)만을 담는 자료형을 말합니다. 파이토치(PyTorch)에서 스칼라는 0차원 텐서(0-dimensional Tensor)로 표현합니다. 즉, 텐서의 차원(Shape)이 전혀 없는 상태를 의미합니다."
      ],
      "metadata": {
        "id": "eziZ8aZuUY3S"
      }
    },
    {
      "cell_type": "code",
      "source": [
        "!pip install torch"
      ],
      "metadata": {
        "colab": {
          "base_uri": "https://localhost:8080/"
        },
        "id": "lGnm_25CVlrj",
        "outputId": "5794158e-3347-44c0-db70-3f5ccca5d6b8"
      },
      "execution_count": null,
      "outputs": [
        {
          "output_type": "stream",
          "name": "stdout",
          "text": [
            "Requirement already satisfied: torch in /usr/local/lib/python3.10/dist-packages (2.5.1+cu121)\n",
            "Requirement already satisfied: filelock in /usr/local/lib/python3.10/dist-packages (from torch) (3.16.1)\n",
            "Requirement already satisfied: typing-extensions>=4.8.0 in /usr/local/lib/python3.10/dist-packages (from torch) (4.12.2)\n",
            "Requirement already satisfied: networkx in /usr/local/lib/python3.10/dist-packages (from torch) (3.4.2)\n",
            "Requirement already satisfied: jinja2 in /usr/local/lib/python3.10/dist-packages (from torch) (3.1.4)\n",
            "Requirement already satisfied: fsspec in /usr/local/lib/python3.10/dist-packages (from torch) (2024.10.0)\n",
            "Requirement already satisfied: sympy==1.13.1 in /usr/local/lib/python3.10/dist-packages (from torch) (1.13.1)\n",
            "Requirement already satisfied: mpmath<1.4,>=1.1.0 in /usr/local/lib/python3.10/dist-packages (from sympy==1.13.1->torch) (1.3.0)\n",
            "Requirement already satisfied: MarkupSafe>=2.0 in /usr/local/lib/python3.10/dist-packages (from jinja2->torch) (3.0.2)\n"
          ]
        }
      ]
    },
    {
      "cell_type": "code",
      "source": [
        "import torch"
      ],
      "metadata": {
        "id": "Lrpvfh3tV1sd"
      },
      "execution_count": null,
      "outputs": []
    },
    {
      "cell_type": "code",
      "source": [
        "var1 = torch.tensor(5) # torch의 tensor라는 자료구조에 5를 저장\n",
        "print(var1)\n",
        "print(var1.shape) # 0차원 텐서\n",
        "var2 = torch.tensor([10])\n",
        "print(var2.shape) # 1차원 텐서 -> 스칼라가 아님\n",
        "\n",
        "var3 = torch.tensor(3)\n",
        "# result = var1 + var2\n",
        "result = var1 + var3\n",
        "print(result)\n",
        "print(result.item()) # 텐서의 값(스칼라)을 파이썬 숫자로 추출"
      ],
      "metadata": {
        "colab": {
          "base_uri": "https://localhost:8080/"
        },
        "id": "LRhe98eqW9Jd",
        "outputId": "923385c3-2588-4c0e-ad67-fe66816e22b1"
      },
      "execution_count": null,
      "outputs": [
        {
          "output_type": "stream",
          "name": "stdout",
          "text": [
            "tensor(5)\n",
            "torch.Size([])\n",
            "torch.Size([1])\n",
            "tensor(8)\n",
            "8\n"
          ]
        }
      ]
    },
    {
      "cell_type": "markdown",
      "source": [
        "### 1-2. 벡터(Vector)\n",
        "벡터(Vector)는 하나 이상의 원소가 일렬로 나열된 1차원 텐서(1D Tensor)를 의미합니다. 파이토치(PyTorch)에서 벡터는 일반적으로 torch.tensor([...]) 형태로 만들며, 이때 텐서의 shape(차원)가 (n,) 형태입니다. 즉, 원소가 n개 들어 있으면 1차원 벡터가 됩니다."
      ],
      "metadata": {
        "id": "ol2LwOobXQ2Y"
      }
    },
    {
      "cell_type": "code",
      "source": [
        "var1 = torch.tensor([1.0, 2.0, 3.0])\n",
        "print(var1)\n",
        "print(var1.shape) # 1차원 텐서\n",
        "\n",
        "var2 = var1 + 10\n",
        "print(var2)\n",
        "var3 = var1 * 2\n",
        "print(var3)\n",
        "var4 = torch.tensor([4.0, 5.0, 6.0])\n",
        "result = var1 + var4\n",
        "print(result)"
      ],
      "metadata": {
        "colab": {
          "base_uri": "https://localhost:8080/"
        },
        "id": "_MQqAq8cYchW",
        "outputId": "9474cb4b-fd89-40ae-dba4-cac2d883a94e"
      },
      "execution_count": null,
      "outputs": [
        {
          "output_type": "stream",
          "name": "stdout",
          "text": [
            "tensor([1., 2., 3.])\n",
            "torch.Size([3])\n",
            "tensor([11., 12., 13.])\n",
            "tensor([2., 4., 6.])\n",
            "tensor([5., 7., 9.])\n"
          ]
        }
      ]
    },
    {
      "cell_type": "markdown",
      "source": [
        "### 1-3. 행렬\n",
        "행렬(Matrix)은 2차원 형태의 텐서로, 파이토치(PyTorch)에서는 shape가 (m, n)처럼 2개의 차원을 가진 텐서를 의미합니다. 예를 들어, torch.tensor([[1, 2], [3, 4]])는 2행×2열 형태의 행렬입니다. 행렬 연산에서는 행렬 곱셈, 원소별 연산, 전치(Transpose) 등이 자주 활용되며, 파이토치는 torch.mm 또는 @ 연산자를 통해 행렬 곱셈을 수행할 수 있습니다."
      ],
      "metadata": {
        "id": "ngOOwPKKYsug"
      }
    },
    {
      "cell_type": "code",
      "source": [
        "var1 = torch.tensor([[1, 2], [3, 4]])\n",
        "var2 = torch.tensor([[5, 6], [7, 8]])\n",
        "print(var1)\n",
        "print(var1.shape) # 2차원 텐서\n",
        "\n",
        "result1 = var1 + var2\n",
        "print(result1)\n",
        "result2 = var1 + var2\n",
        "print(result2)\n",
        "result3 = torch.mm(var1, var2)\n",
        "print(result3)\n",
        "result4 = var1 @ var2 # @은 행렬곱에 사용할 수 있는 연산자\n",
        "print(result4)"
      ],
      "metadata": {
        "colab": {
          "base_uri": "https://localhost:8080/"
        },
        "id": "AS-3R7CfZboq",
        "outputId": "8aabadbb-8ae7-403f-b44d-85a44b397ede"
      },
      "execution_count": null,
      "outputs": [
        {
          "output_type": "stream",
          "name": "stdout",
          "text": [
            "tensor([[1, 2],\n",
            "        [3, 4]])\n",
            "torch.Size([2, 2])\n",
            "tensor([[ 6,  8],\n",
            "        [10, 12]])\n",
            "tensor([[ 6,  8],\n",
            "        [10, 12]])\n",
            "tensor([[19, 22],\n",
            "        [43, 50]])\n",
            "tensor([[19, 22],\n",
            "        [43, 50]])\n"
          ]
        }
      ]
    },
    {
      "cell_type": "markdown",
      "source": [
        "### 1-4. 다차원 텐서\n",
        "파이토치(PyTorch)에서 다차원 텐서란, 여러 축(차원)을 가지는 텐서를 의미합니다. 예를 들어, 0차원 텐서는 “스칼라(Scalar)”, 1차원 텐서는 “벡터(Vector)”, 2차원 텐서는 “행렬(Matrix)”, 그 이상의 3차원, 4차원 텐서 등을 통틀어 “다차원 텐서(Multi-dimensional Tensor)”라고 부릅니다. 다차원 텐서는 이미지, 음성, 동영상, 시계열 데이터를 비롯하여 여러 축을 필요로 하는 다양한 형태의 데이터를 표현할 때 쓰입니다."
      ],
      "metadata": {
        "id": "cgCHnQB-Z0Iv"
      }
    },
    {
      "cell_type": "code",
      "source": [
        "var1 = torch.tensor([[[1, 2], [3, 4]], [[5, 6], [7, 8]]])\n",
        "print(var1)\n",
        "print(var1.shape) # torch.Size([2, 2, 2]) : 2행 2열이 2개있다."
      ],
      "metadata": {
        "colab": {
          "base_uri": "https://localhost:8080/"
        },
        "id": "RkrrYxCpaksw",
        "outputId": "f472c341-dd32-4259-e0d5-109c1ef57f8e"
      },
      "execution_count": null,
      "outputs": [
        {
          "output_type": "stream",
          "name": "stdout",
          "text": [
            "tensor([[[1, 2],\n",
            "         [3, 4]],\n",
            "\n",
            "        [[5, 6],\n",
            "         [7, 8]]])\n",
            "torch.Size([2, 2, 2])\n"
          ]
        }
      ]
    },
    {
      "cell_type": "markdown",
      "source": [
        "<img src ='https://img1.daumcdn.net/thumb/R1280x0/?scode=mtistory2&fname=https%3A%2F%2Fblog.kakaocdn.net%2Fdn%2F9qUBb%2FbtsLwdzdXkJ%2Fx1zeP2l6zS8o5sMjOIr5Ek%2Fimg.png'>"
      ],
      "metadata": {
        "id": "VMh98hSMa9O4"
      }
    },
    {
      "cell_type": "markdown",
      "source": [
        "# 2. 텐서\n",
        "PyTorch의 텐서(Tensor)는 딥러닝 모델에서 데이터를 다룰 때 사용되는 기본 데이터 구조입니다. 텐서는 다차원 배열로, NumPy의 배열과 비슷하지만, GPU에서 연산을 수행할 수 있다는 점에서 차이가 있습니다. PyTorch의 텐서는 데이터의 표현뿐만 아니라, 자동 미분(autograd) 기능을 제공하여 딥러닝 모델의 학습을 도와줍니다."
      ],
      "metadata": {
        "id": "wnaaAOLObiYZ"
      }
    },
    {
      "cell_type": "code",
      "source": [
        "data = [[1, 2], [3, 4]]\n",
        "t1 = torch.tensor(data)\n",
        "print(t1)"
      ],
      "metadata": {
        "colab": {
          "base_uri": "https://localhost:8080/"
        },
        "id": "c1UrL1RaeIBh",
        "outputId": "87eb18af-d96b-4cb0-b2d2-2b8130f9d90a"
      },
      "execution_count": null,
      "outputs": [
        {
          "output_type": "stream",
          "name": "stdout",
          "text": [
            "tensor([[1, 2],\n",
            "        [3, 4]])\n"
          ]
        }
      ]
    },
    {
      "cell_type": "code",
      "source": [
        "# t1, t2에 텐서형으로 저장\n",
        "t1 = torch.tensor([5])\n",
        "t2 = torch.tensor([7])\n",
        "\n",
        "ndarr1 = (t1 + t2).numpy()\n",
        "print(ndarr1)\n",
        "print(type(ndarr1))\n",
        "\n",
        "result = ndarr1 * 10\n",
        "t3 = torch.from_numpy(result)\n",
        "print(t3)\n",
        "print(type(t3))"
      ],
      "metadata": {
        "colab": {
          "base_uri": "https://localhost:8080/"
        },
        "id": "LHIQm5-Refe9",
        "outputId": "1b4dde6d-1f9d-4e06-d18d-9504be700297"
      },
      "execution_count": null,
      "outputs": [
        {
          "output_type": "stream",
          "name": "stdout",
          "text": [
            "[12]\n",
            "<class 'numpy.ndarray'>\n",
            "tensor([120])\n",
            "<class 'torch.Tensor'>\n"
          ]
        }
      ]
    },
    {
      "cell_type": "code",
      "source": [
        "# 2차원 데이터를 갖고 있는 행렬\n",
        "t1 = torch.tensor([\n",
        "    [1, 2, 3, 4],\n",
        "    [5, 6, 7, 8],\n",
        "    [9, 10, 11, 12]\n",
        "])\n",
        "\n",
        "print(t1[0])\n",
        "print(t1[:, 0])\n",
        "print(t1[:, -1])\n",
        "print(t1[..., -1])"
      ],
      "metadata": {
        "colab": {
          "base_uri": "https://localhost:8080/"
        },
        "id": "ZltZO8BhfHw7",
        "outputId": "559cb41e-492e-4430-eff7-a69a418685b2"
      },
      "execution_count": null,
      "outputs": [
        {
          "output_type": "stream",
          "name": "stdout",
          "text": [
            "tensor([1, 2, 3, 4])\n",
            "tensor([1, 5, 9])\n",
            "tensor([ 4,  8, 12])\n",
            "tensor([ 4,  8, 12])\n"
          ]
        }
      ]
    },
    {
      "cell_type": "code",
      "source": [
        "# 3차원 이상\n",
        "t1 = torch.tensor([[[1, 2, 3],[4, 5, 6]],[[7, 8, 9],[10, 11, 12]]])\n",
        "print(t1)\n",
        "print(t1.shape)\n",
        "print(t1[..., -1]) # 첫 번째와 두 번째 차원을 유지. 마지막 요소만 선택"
      ],
      "metadata": {
        "colab": {
          "base_uri": "https://localhost:8080/"
        },
        "id": "xxL-I3y5gDJp",
        "outputId": "7c000e45-2ca2-4e53-f415-85d344c959de"
      },
      "execution_count": null,
      "outputs": [
        {
          "output_type": "stream",
          "name": "stdout",
          "text": [
            "tensor([[[ 1,  2,  3],\n",
            "         [ 4,  5,  6]],\n",
            "\n",
            "        [[ 7,  8,  9],\n",
            "         [10, 11, 12]]])\n",
            "torch.Size([2, 2, 3])\n",
            "tensor([[ 3,  6],\n",
            "        [ 9, 12]])\n"
          ]
        }
      ]
    },
    {
      "cell_type": "markdown",
      "source": [
        "# 3. GPU 사용하기\n",
        "GPU (Graphics Processing Unit)는 그래픽 처리 장치로, 주로 이미지 렌더링과 같은 대규모 병렬 계산을 수행하는 데 최적화된 하드웨어입니다. 원래는 그래픽 처리를 위해 설계되었지만, 최근에는 인공지능(AI) 및 딥러닝의 연산 가속기로 널리 사용되고 있습니다. 딥러닝은 수천, 수만 개의 행렬 및 벡터 연산을 필요로 합니다. GPU는 여러 개의 코어를 사용하여 이 연산을 병렬로 처리할 수 있습니다. 따라서 GPU는 딥러닝 에 최적화된 구조를 가지고 있습니다."
      ],
      "metadata": {
        "id": "rosDoK5DgX0O"
      }
    },
    {
      "cell_type": "code",
      "source": [
        "data = [[1, 2], [3, 4]]\n",
        "t1 = torch.tensor(data)\n",
        "print(t1.is_cuda) # False : GPU를 못씀"
      ],
      "metadata": {
        "colab": {
          "base_uri": "https://localhost:8080/"
        },
        "id": "53u3s6U4hRFv",
        "outputId": "d430319a-9115-4ff4-f873-a41d170463e6"
      },
      "execution_count": null,
      "outputs": [
        {
          "output_type": "stream",
          "name": "stdout",
          "text": [
            "False\n"
          ]
        }
      ]
    },
    {
      "cell_type": "code",
      "source": [
        "t1 = t1.cuda() # 텐서를 GPU로 옮기기"
      ],
      "metadata": {
        "id": "BglDD5ucjcbv"
      },
      "execution_count": null,
      "outputs": []
    },
    {
      "cell_type": "code",
      "source": [
        "print(t1.is_cuda)"
      ],
      "metadata": {
        "colab": {
          "base_uri": "https://localhost:8080/"
        },
        "id": "Xexbuukhjusp",
        "outputId": "1c8a5b11-2c3d-4634-edd2-2c18d720a761"
      },
      "execution_count": null,
      "outputs": [
        {
          "output_type": "stream",
          "name": "stdout",
          "text": [
            "True\n"
          ]
        }
      ]
    },
    {
      "cell_type": "code",
      "source": [
        "t1 = t1.cpu() # 텐서를 CPU로 옮기기\n",
        "print(t1.is_cuda)"
      ],
      "metadata": {
        "colab": {
          "base_uri": "https://localhost:8080/"
        },
        "id": "x_SbxidxkVsu",
        "outputId": "cc735298-429a-4c25-df62-7a0c226d9a56"
      },
      "execution_count": null,
      "outputs": [
        {
          "output_type": "stream",
          "name": "stdout",
          "text": [
            "False\n"
          ]
        }
      ]
    },
    {
      "cell_type": "code",
      "source": [
        "t1 = torch.tensor([[1, 1], [2, 2]]).cuda()\n",
        "t2 = torch.tensor([[5, 6], [7, 8]])"
      ],
      "metadata": {
        "id": "zSfeJ4BOkfDT"
      },
      "execution_count": null,
      "outputs": []
    },
    {
      "cell_type": "code",
      "source": [
        "# print(torch.matmul(t1, t2)) # 같은 디바이스에 있어야 함. 오류 발생\n",
        "print(torch.matmul(t1.cpu(), t2)) # t1 = t1.cpu()\n",
        "print(f'Device: {t1.device}')\n",
        "print(f'Device: {t2.device}')"
      ],
      "metadata": {
        "colab": {
          "base_uri": "https://localhost:8080/"
        },
        "id": "UPp78uCskwaQ",
        "outputId": "5a617748-eb92-4ed1-a96e-dad1e5b64a49"
      },
      "execution_count": null,
      "outputs": [
        {
          "output_type": "stream",
          "name": "stdout",
          "text": [
            "tensor([[12, 14],\n",
            "        [24, 28]])\n",
            "Device: cuda:0\n",
            "Device: cpu\n"
          ]
        }
      ]
    },
    {
      "cell_type": "markdown",
      "source": [
        "# 4. 텐서의 연산과 함수"
      ],
      "metadata": {
        "id": "XPHfPY7clOU4"
      }
    },
    {
      "cell_type": "code",
      "source": [
        "t1 = torch.tensor([\n",
        "    [1, 2],\n",
        "    [3, 4]\n",
        "])\n",
        "t2 = torch.tensor([\n",
        "    [5, 6],\n",
        "    [7, 8]\n",
        "])\n",
        "print(t1 + t2)\n",
        "print(t1 - t2)\n",
        "print(t1 * t2)\n",
        "print(t1 / t2)"
      ],
      "metadata": {
        "colab": {
          "base_uri": "https://localhost:8080/"
        },
        "id": "ZKSWKWjPl8Ca",
        "outputId": "9560d6f2-22ef-494a-9da7-cea960ce9eba"
      },
      "execution_count": null,
      "outputs": [
        {
          "output_type": "stream",
          "name": "stdout",
          "text": [
            "tensor([[ 6,  8],\n",
            "        [10, 12]])\n",
            "tensor([[-4, -4],\n",
            "        [-4, -4]])\n",
            "tensor([[ 5, 12],\n",
            "        [21, 32]])\n",
            "tensor([[0.2000, 0.3333],\n",
            "        [0.4286, 0.5000]])\n"
          ]
        }
      ]
    },
    {
      "cell_type": "code",
      "source": [
        "t1 = torch.tensor([\n",
        "    [1, 2],\n",
        "    [3, 4]\n",
        "])\n",
        "t2 = torch.tensor([\n",
        "    [5, 6],\n",
        "    [7, 8]\n",
        "])\n",
        "\n",
        "print(t1.matmul(t2))\n",
        "print(torch.matmul(t1, t2))"
      ],
      "metadata": {
        "colab": {
          "base_uri": "https://localhost:8080/"
        },
        "id": "GgeCBsjVl_9v",
        "outputId": "d586f6d4-bca9-43a6-e760-6c20afeecdbe"
      },
      "execution_count": null,
      "outputs": [
        {
          "output_type": "stream",
          "name": "stdout",
          "text": [
            "tensor([[19, 22],\n",
            "        [43, 50]])\n",
            "tensor([[19, 22],\n",
            "        [43, 50]])\n"
          ]
        }
      ]
    },
    {
      "cell_type": "code",
      "source": [
        "t1 = torch.Tensor([\n",
        "    [1, 2, 3, 4],\n",
        "    [5, 6, 7, 8]\n",
        "])\n",
        "print(t1)\n",
        "print(t1.mean()) # 전체 요소에 대한 평균\n",
        "print(t1.mean(dim=0)) # 각 열에 대하여 평균 계산\n",
        "print(t1.mean(dim=1)) # 각 행에 대하여 평균 계산"
      ],
      "metadata": {
        "id": "PQ-bioAtmO05",
        "colab": {
          "base_uri": "https://localhost:8080/"
        },
        "outputId": "0b53eb27-b190-4bed-d930-682b2eb60084"
      },
      "execution_count": null,
      "outputs": [
        {
          "output_type": "stream",
          "name": "stdout",
          "text": [
            "tensor([[1., 2., 3., 4.],\n",
            "        [5., 6., 7., 8.]])\n",
            "tensor(4.5000)\n",
            "tensor([3., 4., 5., 6.])\n",
            "tensor([2.5000, 6.5000])\n"
          ]
        }
      ]
    },
    {
      "cell_type": "code",
      "source": [
        "t1 = torch.Tensor([\n",
        "    [1, 2, 3, 4],\n",
        "    [5, 6, 7, 8]\n",
        "])\n",
        "print(t1)\n",
        "print(t1.sum()) # 전체 합계\n",
        "print(t1.sum(dim=0)) # 각 열에 대하여 합계 계산\n",
        "print(t1.sum(dim=1)) # 각 행에 대하여 합계 계산"
      ],
      "metadata": {
        "colab": {
          "base_uri": "https://localhost:8080/"
        },
        "id": "KMoFPi6_rvSV",
        "outputId": "c0078cd4-d6df-4932-c2e1-447edfe59061"
      },
      "execution_count": null,
      "outputs": [
        {
          "output_type": "stream",
          "name": "stdout",
          "text": [
            "tensor([[1., 2., 3., 4.],\n",
            "        [5., 6., 7., 8.]])\n",
            "tensor(36.)\n",
            "tensor([ 6.,  8., 10., 12.])\n",
            "tensor([10., 26.])\n"
          ]
        }
      ]
    },
    {
      "cell_type": "code",
      "source": [
        "t1 = torch.Tensor([\n",
        "    [1, 2, 3, 4],\n",
        "    [5, 6, 7, 8]\n",
        "])\n",
        "print(t1)\n",
        "print(t1.argmax()) # 전체 원소에 대한 최댓값의 인덱스를 구함\n",
        "print(t1.argmax(dim=0)) # 각 열에 대하여 최댓값의 인덱스\n",
        "print(t1.argmax(dim=1)) # 각 행에 대하여 최댓값의 인덱스"
      ],
      "metadata": {
        "colab": {
          "base_uri": "https://localhost:8080/"
        },
        "id": "UOv6Of2ussPL",
        "outputId": "333dc4eb-95fd-435d-c8b6-27e71e9ac9fa"
      },
      "execution_count": null,
      "outputs": [
        {
          "output_type": "stream",
          "name": "stdout",
          "text": [
            "tensor([[1., 2., 3., 4.],\n",
            "        [5., 6., 7., 8.]])\n",
            "tensor(7)\n",
            "tensor([1, 1, 1, 1])\n",
            "tensor([3, 3])\n"
          ]
        }
      ]
    },
    {
      "cell_type": "markdown",
      "source": [
        "# 5. 텐서의 차원 조작"
      ],
      "metadata": {
        "id": "nlJzOjyetEne"
      }
    },
    {
      "cell_type": "code",
      "source": [
        "t1 = torch.tensor([\n",
        "    [1, 2, 3, 4],\n",
        "    [5, 6, 7, 8],\n",
        "    [9, 10, 11, 12]\n",
        "])"
      ],
      "metadata": {
        "id": "noWxfh7xtrO2"
      },
      "execution_count": null,
      "outputs": []
    },
    {
      "cell_type": "code",
      "source": [
        "result = torch.cat([t1, t1, t1], dim=0) # 행을 기준으로 이어 붙이기\n",
        "print(result)"
      ],
      "metadata": {
        "colab": {
          "base_uri": "https://localhost:8080/"
        },
        "id": "--30_rNyty5X",
        "outputId": "225e0c97-fd24-44f1-d267-501f50dedd8b"
      },
      "execution_count": null,
      "outputs": [
        {
          "output_type": "stream",
          "name": "stdout",
          "text": [
            "tensor([[ 1,  2,  3,  4],\n",
            "        [ 5,  6,  7,  8],\n",
            "        [ 9, 10, 11, 12],\n",
            "        [ 1,  2,  3,  4],\n",
            "        [ 5,  6,  7,  8],\n",
            "        [ 9, 10, 11, 12],\n",
            "        [ 1,  2,  3,  4],\n",
            "        [ 5,  6,  7,  8],\n",
            "        [ 9, 10, 11, 12]])\n"
          ]
        }
      ]
    },
    {
      "cell_type": "code",
      "source": [
        "result = torch.cat([t1, t1, t1], dim=1) # 열을 기준으로 이어 붙이기\n",
        "print(result)"
      ],
      "metadata": {
        "colab": {
          "base_uri": "https://localhost:8080/"
        },
        "id": "4Mq8pzpNt3y0",
        "outputId": "a5d5a2d4-acb3-482b-a2f7-4f110a4e1bda"
      },
      "execution_count": null,
      "outputs": [
        {
          "output_type": "stream",
          "name": "stdout",
          "text": [
            "tensor([[ 1,  2,  3,  4,  1,  2,  3,  4,  1,  2,  3,  4],\n",
            "        [ 5,  6,  7,  8,  5,  6,  7,  8,  5,  6,  7,  8],\n",
            "        [ 9, 10, 11, 12,  9, 10, 11, 12,  9, 10, 11, 12]])\n"
          ]
        }
      ]
    },
    {
      "cell_type": "code",
      "source": [
        "t1 = torch.tensor([2], dtype=torch.int)\n",
        "t2 = torch.tensor([5.0])\n",
        "\n",
        "print(t1.dtype)\n",
        "print(t2.dtype)"
      ],
      "metadata": {
        "colab": {
          "base_uri": "https://localhost:8080/"
        },
        "id": "jJRsuBZxuLCX",
        "outputId": "ffbafa1a-d970-4fc6-d595-af6d21a122aa"
      },
      "execution_count": null,
      "outputs": [
        {
          "output_type": "stream",
          "name": "stdout",
          "text": [
            "torch.int32\n",
            "torch.float32\n"
          ]
        }
      ]
    },
    {
      "cell_type": "code",
      "source": [
        "print(t1 + t2) # 큰 데이터 타입쪽으로 변환, float로 자동 형변환"
      ],
      "metadata": {
        "colab": {
          "base_uri": "https://localhost:8080/"
        },
        "id": "lZ8kTwH6uiCt",
        "outputId": "f0d8415e-774a-420b-9fd8-aea554cdf7ae"
      },
      "execution_count": null,
      "outputs": [
        {
          "output_type": "stream",
          "name": "stdout",
          "text": [
            "tensor([7.])\n"
          ]
        }
      ]
    },
    {
      "cell_type": "code",
      "source": [
        "print(t1 + t2.type(torch.int32))"
      ],
      "metadata": {
        "colab": {
          "base_uri": "https://localhost:8080/"
        },
        "id": "_Wvu1TqxupOe",
        "outputId": "7d8d10fc-1767-4d86-ab81-5498bac204c8"
      },
      "execution_count": null,
      "outputs": [
        {
          "output_type": "stream",
          "name": "stdout",
          "text": [
            "tensor([7], dtype=torch.int32)\n"
          ]
        }
      ]
    },
    {
      "cell_type": "code",
      "source": [
        "# view(): 텐서의 모양을 변경할 때 사용\n",
        "t1 = torch.tensor([1, 2, 3, 4, 5, 6, 7, 8])\n",
        "t2 = t1.view(4, 2) # 4행2열로 저장\n",
        "t2"
      ],
      "metadata": {
        "colab": {
          "base_uri": "https://localhost:8080/"
        },
        "id": "4kaFpXvKu0Hp",
        "outputId": "e93814cd-25c6-4d21-e776-a04ea97bf129"
      },
      "execution_count": null,
      "outputs": [
        {
          "output_type": "execute_result",
          "data": {
            "text/plain": [
              "tensor([[1, 2],\n",
              "        [3, 4],\n",
              "        [5, 6],\n",
              "        [7, 8]])"
            ]
          },
          "metadata": {},
          "execution_count": 37
        }
      ]
    },
    {
      "cell_type": "code",
      "source": [
        "t1[0] = 7\n",
        "print(t1)\n",
        "print(t2)"
      ],
      "metadata": {
        "colab": {
          "base_uri": "https://localhost:8080/"
        },
        "id": "VNvcuK-rvHD-",
        "outputId": "f436031a-044d-4e4b-ca3f-a111731bea38"
      },
      "execution_count": null,
      "outputs": [
        {
          "output_type": "stream",
          "name": "stdout",
          "text": [
            "tensor([7, 2, 3, 4, 5, 6, 7, 8])\n",
            "tensor([[7, 2],\n",
            "        [3, 4],\n",
            "        [5, 6],\n",
            "        [7, 8]])\n"
          ]
        }
      ]
    },
    {
      "cell_type": "code",
      "source": [
        "t3 = t1.clone().view(4, 2)\n",
        "t1[0] = 9\n",
        "print(t1)\n",
        "print(t2)\n",
        "print(t3)"
      ],
      "metadata": {
        "colab": {
          "base_uri": "https://localhost:8080/"
        },
        "id": "OMd1_5zjvank",
        "outputId": "92043d54-9abd-4fa5-941c-1aba5e441b40"
      },
      "execution_count": null,
      "outputs": [
        {
          "output_type": "stream",
          "name": "stdout",
          "text": [
            "tensor([9, 2, 3, 4, 5, 6, 7, 8])\n",
            "tensor([[9, 2],\n",
            "        [3, 4],\n",
            "        [5, 6],\n",
            "        [7, 8]])\n",
            "tensor([[7, 2],\n",
            "        [3, 4],\n",
            "        [5, 6],\n",
            "        [7, 8]])\n"
          ]
        }
      ]
    },
    {
      "cell_type": "code",
      "source": [
        "t1 = torch.rand((64, 32, 3)) # 32행 3열을 64개를 만들어라\n",
        "print(t1.shape)\n",
        "\n",
        "# permute : 인덱스를 활용하여 차원의 순서를 교환\n",
        "t2 = t1.permute(2, 1, 0)\n",
        "print(t2.shape)"
      ],
      "metadata": {
        "colab": {
          "base_uri": "https://localhost:8080/"
        },
        "id": "RlNgZ-Q8vwlc",
        "outputId": "370b63a6-db4e-4cbe-89ab-de178bc92b8e"
      },
      "execution_count": null,
      "outputs": [
        {
          "output_type": "stream",
          "name": "stdout",
          "text": [
            "torch.Size([64, 32, 3])\n",
            "torch.Size([3, 32, 64])\n"
          ]
        }
      ]
    },
    {
      "cell_type": "code",
      "source": [
        "t1"
      ],
      "metadata": {
        "colab": {
          "base_uri": "https://localhost:8080/"
        },
        "id": "HJYIa3GGwCFb",
        "outputId": "6784cb70-7e8e-452c-d783-9daf0a4745d5"
      },
      "execution_count": null,
      "outputs": [
        {
          "output_type": "execute_result",
          "data": {
            "text/plain": [
              "tensor([[[4.0066e-04, 9.3163e-01, 6.1637e-02],\n",
              "         [9.9556e-01, 1.5255e-01, 3.0869e-01],\n",
              "         [5.5935e-01, 6.3908e-01, 7.1507e-01],\n",
              "         ...,\n",
              "         [2.1692e-01, 5.2766e-01, 2.4876e-02],\n",
              "         [4.8752e-01, 4.4527e-01, 3.7202e-01],\n",
              "         [6.8773e-01, 6.8458e-01, 8.2421e-01]],\n",
              "\n",
              "        [[2.7179e-01, 6.3639e-01, 6.1296e-01],\n",
              "         [9.9926e-01, 9.3552e-01, 2.4540e-01],\n",
              "         [1.2099e-01, 5.2234e-01, 9.6133e-02],\n",
              "         ...,\n",
              "         [1.4781e-01, 8.4433e-01, 8.8164e-01],\n",
              "         [8.3951e-01, 8.1548e-01, 1.3895e-01],\n",
              "         [3.4806e-01, 4.9638e-02, 1.7329e-01]],\n",
              "\n",
              "        [[9.4195e-01, 1.1931e-01, 1.4770e-01],\n",
              "         [4.7681e-01, 8.6638e-02, 5.7690e-01],\n",
              "         [8.3990e-01, 3.3952e-01, 9.1464e-01],\n",
              "         ...,\n",
              "         [1.0918e-01, 5.3828e-01, 5.5174e-01],\n",
              "         [2.8991e-03, 5.0982e-01, 4.4481e-01],\n",
              "         [5.9123e-01, 5.5496e-01, 7.0001e-01]],\n",
              "\n",
              "        ...,\n",
              "\n",
              "        [[2.4709e-01, 6.4227e-01, 9.1203e-01],\n",
              "         [2.6830e-01, 8.1049e-01, 7.8415e-01],\n",
              "         [7.5266e-01, 2.8508e-02, 3.5201e-01],\n",
              "         ...,\n",
              "         [2.7055e-01, 7.8455e-01, 7.1134e-01],\n",
              "         [5.1064e-01, 9.4389e-01, 4.0053e-02],\n",
              "         [8.2619e-01, 8.8748e-01, 8.8991e-01]],\n",
              "\n",
              "        [[4.6620e-01, 8.5687e-01, 1.6983e-01],\n",
              "         [6.4673e-02, 6.9350e-01, 1.5245e-01],\n",
              "         [7.0442e-01, 5.4694e-01, 8.8269e-01],\n",
              "         ...,\n",
              "         [4.2403e-01, 1.7511e-01, 8.7797e-01],\n",
              "         [2.0530e-01, 1.3407e-01, 2.8499e-01],\n",
              "         [6.4034e-01, 3.4811e-01, 9.5115e-01]],\n",
              "\n",
              "        [[3.8687e-01, 1.3931e-01, 2.2698e-02],\n",
              "         [6.6849e-01, 7.4213e-02, 2.8071e-01],\n",
              "         [3.8384e-01, 7.1076e-01, 3.9714e-01],\n",
              "         ...,\n",
              "         [1.1264e-01, 3.2107e-01, 3.3615e-01],\n",
              "         [5.4763e-01, 8.3230e-01, 4.0755e-01],\n",
              "         [4.7460e-01, 8.2475e-01, 8.3638e-02]]])"
            ]
          },
          "metadata": {},
          "execution_count": 42
        }
      ]
    },
    {
      "cell_type": "code",
      "source": [
        "t1 = torch.Tensor([\n",
        "    [1, 2, 3, 4],\n",
        "    [5, 6, 7, 8]\n",
        "])\n",
        "print(t1.shape) # 2행4열\n",
        "\n",
        "# 첫번째 축에 차원 추가\n",
        "t1 = t1.unsqueeze(0)\n",
        "print(t1)\n",
        "print(t1.shape)"
      ],
      "metadata": {
        "colab": {
          "base_uri": "https://localhost:8080/"
        },
        "id": "Y1xE5jZ8wEbu",
        "outputId": "0212dd4a-ac5b-4819-cb59-056cccb0102a"
      },
      "execution_count": null,
      "outputs": [
        {
          "output_type": "stream",
          "name": "stdout",
          "text": [
            "torch.Size([2, 4])\n",
            "tensor([[[1., 2., 3., 4.],\n",
            "         [5., 6., 7., 8.]]])\n",
            "torch.Size([1, 2, 4])\n"
          ]
        }
      ]
    },
    {
      "cell_type": "code",
      "source": [
        "# 크기가 1인 차원을 제거함. squeeze(dim): 특정 차원이 1인 경우에만 차원을 제거\n",
        "t1 = t1.squeeze()\n",
        "print(t1)\n",
        "print(t1.shape)"
      ],
      "metadata": {
        "colab": {
          "base_uri": "https://localhost:8080/"
        },
        "id": "5471GqgdxWkF",
        "outputId": "52ac5d81-a143-4206-f34f-063ba599d391"
      },
      "execution_count": null,
      "outputs": [
        {
          "output_type": "stream",
          "name": "stdout",
          "text": [
            "tensor([[1., 2., 3., 4.],\n",
            "        [5., 6., 7., 8.]])\n",
            "torch.Size([2, 4])\n"
          ]
        }
      ]
    },
    {
      "cell_type": "markdown",
      "source": [
        "# 6. 자동 미분과 기울기"
      ],
      "metadata": {
        "id": "AvqVTrY9x6U8"
      }
    },
    {
      "cell_type": "code",
      "source": [
        "x = torch.tensor([3.0, 4.0], requires_grad=True)\n",
        "y = torch.tensor([1.0, 2.0], requires_grad=True)"
      ],
      "metadata": {
        "id": "VsiQKcP9ydqY"
      },
      "execution_count": null,
      "outputs": []
    },
    {
      "cell_type": "code",
      "source": [
        "z = x + y\n",
        "z"
      ],
      "metadata": {
        "colab": {
          "base_uri": "https://localhost:8080/"
        },
        "id": "GPk44nPKy_-A",
        "outputId": "a44243c3-5642-445a-d0ce-2db2fec674a0"
      },
      "execution_count": null,
      "outputs": [
        {
          "output_type": "execute_result",
          "data": {
            "text/plain": [
              "tensor([4., 6.], grad_fn=<AddBackward0>)"
            ]
          },
          "metadata": {},
          "execution_count": 49
        }
      ]
    },
    {
      "cell_type": "code",
      "source": [
        "out = z.mean()\n",
        "out"
      ],
      "metadata": {
        "colab": {
          "base_uri": "https://localhost:8080/"
        },
        "id": "_0_-z_3wzJl_",
        "outputId": "61bf8afd-6499-4b6a-9e5c-80e1d07b6d6f"
      },
      "execution_count": null,
      "outputs": [
        {
          "output_type": "execute_result",
          "data": {
            "text/plain": [
              "tensor(5., grad_fn=<MeanBackward0>)"
            ]
          },
          "metadata": {},
          "execution_count": 50
        }
      ]
    },
    {
      "cell_type": "code",
      "source": [
        "out.backward() # 역전파 : 내가 지금까지 썼던 수식을 반대로 미분함"
      ],
      "metadata": {
        "id": "YihiBLKfzOct"
      },
      "execution_count": null,
      "outputs": []
    },
    {
      "cell_type": "code",
      "source": [
        "print('x.grad: ', x.grad)\n",
        "print('y.grad: ', y.grad)\n",
        "print('z.grad: ', z.grad)"
      ],
      "metadata": {
        "colab": {
          "base_uri": "https://localhost:8080/"
        },
        "id": "eBO59i4FzTkJ",
        "outputId": "c190a349-1a59-4306-ab20-8556c28b0581"
      },
      "execution_count": null,
      "outputs": [
        {
          "output_type": "stream",
          "name": "stdout",
          "text": [
            "x.grad:  tensor([0.5000, 0.5000])\n",
            "y.grad:  tensor([0.5000, 0.5000])\n",
            "z.grad:  None\n"
          ]
        },
        {
          "output_type": "stream",
          "name": "stderr",
          "text": [
            "<ipython-input-52-38d263e1bb4c>:3: UserWarning: The .grad attribute of a Tensor that is not a leaf Tensor is being accessed. Its .grad attribute won't be populated during autograd.backward(). If you indeed want the .grad field to be populated for a non-leaf Tensor, use .retain_grad() on the non-leaf Tensor. If you access the non-leaf Tensor by mistake, make sure you access the leaf Tensor instead. See github.com/pytorch/pytorch/pull/30531 for more informations. (Triggered internally at aten/src/ATen/core/TensorBody.h:489.)\n",
            "  print('z.grad: ', z.grad)\n"
          ]
        }
      ]
    },
    {
      "cell_type": "code",
      "source": [],
      "metadata": {
        "id": "DES6l4VUzdOL"
      },
      "execution_count": null,
      "outputs": []
    }
  ]
}